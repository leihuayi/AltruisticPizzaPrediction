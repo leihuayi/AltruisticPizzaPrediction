{
 "cells": [
  {
   "cell_type": "code",
   "execution_count": null,
   "id": "b9a2c55e",
   "metadata": {},
   "outputs": [],
   "source": [
    "import pickle\n",
    "import numpy as np\n",
    "from sklearn import svm\n",
    "from pprint import pprint\n",
    "from sklearn.metrics import classification_report, confusion_matrix, accuracy_score\n",
    "import matplotlib.pyplot as plt\n",
    "import seaborn as sns\n",
    "import pandas as pd\n",
    "import time"
   ]
  },
  {
   "cell_type": "code",
   "execution_count": null,
   "id": "6388e593",
   "metadata": {},
   "outputs": [],
   "source": [
    "\n",
    "\n",
    "# features_train\n",
    "path_features_train = \"pickles/features_train.pickle\"\n",
    "with open(path_features_train, 'rb') as data:\n",
    "    features_train = pickle.load(data)\n",
    "\n",
    "# labels_train\n",
    "path_labels_train = \"pickles/labels_train.pickle\"\n",
    "with open(path_labels_train, 'rb') as data:\n",
    "    labels_train = pickle.load(data)\n",
    "\n",
    "# features_test\n",
    "path_features_test = \"pickles/features_test.pickle\"\n",
    "with open(path_features_test, 'rb') as data:\n",
    "    features_test = pickle.load(data)\n",
    "\n",
    "# labels_test\n",
    "path_labels_test = \"pickles/labels_test.pickle\"\n",
    "with open(path_labels_test, 'rb') as data:\n",
    "    labels_test = pickle.load(data)\n",
    "\n"
   ]
  },
  {
   "cell_type": "code",
   "execution_count": null,
   "id": "4c4daf16",
   "metadata": {},
   "outputs": [],
   "source": [
    "print(features_train.shape)\n",
    "print(features_test.shape)"
   ]
  },
  {
   "cell_type": "markdown",
   "id": "098afc33",
   "metadata": {},
   "source": [
    "# Simple training\n",
    "\n",
    "Best for text only: C=1.5, kernel=linear\n",
    "Best text+len+votes: C=1, kernel=linear"
   ]
  },
  {
   "cell_type": "code",
   "execution_count": null,
   "id": "45bd6294",
   "metadata": {},
   "outputs": [],
   "source": [
    "\n",
    "\n",
    "def train_svm(C, ker):\n",
    "    t = time.time()\n",
    "    svc = svm.SVC(C=C, kernel=ker, class_weight={0: 0.25, 1:0.75})\n",
    "    svc.fit(features_train, labels_train)\n",
    "    svc_pred = svc.predict(features_test)\n",
    "    print(\"Training time\", time.time()-t)\n",
    "    print(\"The test accuracy is: \", accuracy_score(labels_test, svc_pred))\n",
    "\n",
    "    print(\"Classification report\")\n",
    "    print(classification_report(labels_test,svc_pred))\n",
    "    conf_matrix = confusion_matrix(labels_test, svc_pred, normalize='true')\n",
    "    plt.figure(figsize=(12.8,6))\n",
    "    sns.heatmap(conf_matrix, \n",
    "                annot=True,\n",
    "                xticklabels=[0,1], \n",
    "                yticklabels=[0,1],\n",
    "                cmap=\"Blues\")\n",
    "    plt.xlabel('Predicted')\n",
    "    plt.ylabel('Actual')\n",
    "    plt.title('Confusion matrix')\n",
    "    plt.show()"
   ]
  },
  {
   "cell_type": "code",
   "execution_count": null,
   "id": "f632539c",
   "metadata": {
    "scrolled": false
   },
   "outputs": [],
   "source": [
    "train_svm(1., 'linear')"
   ]
  },
  {
   "cell_type": "markdown",
   "id": "380675a6",
   "metadata": {},
   "source": [
    "# Old trainings"
   ]
  },
  {
   "cell_type": "code",
   "execution_count": null,
   "id": "c1b2eeae",
   "metadata": {
    "scrolled": false
   },
   "outputs": [],
   "source": [
    "for C in [1, 1.5, 2]:\n",
    "    for ker in ['poly', 'rbf', 'linear']:\n",
    "        print(\"\\n\\n>>>> TRAINIG WITH PARAMS \", str(C), ker)\n",
    "        train_svm(C, ker)"
   ]
  },
  {
   "cell_type": "markdown",
   "id": "ebc831bb",
   "metadata": {},
   "source": [
    "# Test variation number features"
   ]
  },
  {
   "cell_type": "code",
   "execution_count": null,
   "id": "36af61ad",
   "metadata": {},
   "outputs": [],
   "source": [
    "import pickle\n",
    "# df\n",
    "with open(\"pickles/df.pickle\", 'rb') as data:\n",
    "    df = pickle.load(data)\n",
    "\n",
    "df['cleaned_all']"
   ]
  },
  {
   "cell_type": "code",
   "execution_count": null,
   "id": "7a23f624",
   "metadata": {
    "scrolled": false
   },
   "outputs": [],
   "source": [
    "from sklearn.model_selection import train_test_split\n",
    "from sklearn.feature_selection import chi2\n",
    "from sklearn.feature_extraction.text import TfidfVectorizer\n",
    "import numpy as np\n",
    "vectorizer = TfidfVectorizer(lowercase=False, max_features=50)\n",
    "\n",
    "\n",
    "X_train, X_test, labels_train, labels_test = train_test_split(np.array(df['cleaned_all']), \n",
    "                                                    np.array(df['requester_received_pizza']).astype(int), \n",
    "                                                    test_size=0.15, \n",
    "                                                    random_state=8)\n",
    "\n",
    "\n",
    "for feats in [100, 200, 500, 1000, 2000]:\n",
    "    print(\"\\n\\n>>>> TRAINIG WITH NUMBER FEATURES \", feats)\n",
    "    vectorizer = TfidfVectorizer(stop_words=None,\n",
    "                            lowercase=False,\n",
    "                            max_features=feats)\n",
    "\n",
    "    features_train = vectorizer.fit_transform(X_train).toarray()\n",
    "    features_test = vectorizer.transform(X_test).toarray()\n",
    "    \n",
    "    t = time.time()\n",
    "    svc = svm.SVC(C=1, kernel=\"linear\", class_weight={0: 0.25, 1:0.75})\n",
    "    svc.fit(features_train, labels_train)\n",
    "    svc_pred = svc.predict(features_test)\n",
    "    print(\"Training time\", time.time()-t)\n",
    "    print(\"The test accuracy is: \", accuracy_score(labels_test, svc_pred))\n",
    "\n",
    "    print(\"Classification report\")\n",
    "    print(classification_report(labels_test,svc_pred))\n",
    "    conf_matrix = confusion_matrix(labels_test, svc_pred, normalize='true')\n",
    "    plt.figure(figsize=(12.8,6))\n",
    "    sns.heatmap(conf_matrix, \n",
    "                annot=True,\n",
    "                xticklabels=[0,1], \n",
    "                yticklabels=[0,1],\n",
    "                cmap=\"Blues\")\n",
    "    plt.xlabel('Predicted')\n",
    "    plt.ylabel('Actual')\n",
    "    plt.title('Confusion matrix')\n",
    "    plt.show()\n",
    "    "
   ]
  },
  {
   "cell_type": "code",
   "execution_count": null,
   "id": "f4c3a681",
   "metadata": {},
   "outputs": [],
   "source": []
  }
 ],
 "metadata": {
  "kernelspec": {
   "display_name": "Python 3 (ipykernel)",
   "language": "python",
   "name": "python3"
  },
  "language_info": {
   "codemirror_mode": {
    "name": "ipython",
    "version": 3
   },
   "file_extension": ".py",
   "mimetype": "text/x-python",
   "name": "python",
   "nbconvert_exporter": "python",
   "pygments_lexer": "ipython3",
   "version": "3.9.11"
  }
 },
 "nbformat": 4,
 "nbformat_minor": 5
}
