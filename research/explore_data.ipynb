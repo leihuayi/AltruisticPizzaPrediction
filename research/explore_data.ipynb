{
 "cells": [
  {
   "cell_type": "code",
   "execution_count": 1,
   "id": "77b60069",
   "metadata": {},
   "outputs": [],
   "source": [
    "import pandas as pd\n",
    "import seaborn as sn\n",
    "import numpy as np\n",
    "%matplotlib inline"
   ]
  },
  {
   "cell_type": "markdown",
   "id": "48d4b21c",
   "metadata": {},
   "source": [
    "# Load data"
   ]
  },
  {
   "cell_type": "code",
   "execution_count": 2,
   "id": "336e9204",
   "metadata": {},
   "outputs": [],
   "source": [
    "df = pd.read_json('pizza_data.json', orient='values')"
   ]
  },
  {
   "cell_type": "code",
   "execution_count": 3,
   "id": "07688a8d",
   "metadata": {},
   "outputs": [
    {
     "name": "stdout",
     "output_type": "stream",
     "text": [
      "4040\n"
     ]
    },
    {
     "data": {
      "text/html": [
       "<div>\n",
       "<style scoped>\n",
       "    .dataframe tbody tr th:only-of-type {\n",
       "        vertical-align: middle;\n",
       "    }\n",
       "\n",
       "    .dataframe tbody tr th {\n",
       "        vertical-align: top;\n",
       "    }\n",
       "\n",
       "    .dataframe thead th {\n",
       "        text-align: right;\n",
       "    }\n",
       "</style>\n",
       "<table border=\"1\" class=\"dataframe\">\n",
       "  <thead>\n",
       "    <tr style=\"text-align: right;\">\n",
       "      <th></th>\n",
       "      <th>giver_username_if_known</th>\n",
       "      <th>number_of_downvotes_of_request_at_retrieval</th>\n",
       "      <th>number_of_upvotes_of_request_at_retrieval</th>\n",
       "      <th>post_was_edited</th>\n",
       "      <th>request_id</th>\n",
       "      <th>request_number_of_comments_at_retrieval</th>\n",
       "      <th>request_text</th>\n",
       "      <th>request_text_edit_aware</th>\n",
       "      <th>request_title</th>\n",
       "      <th>requester_account_age_in_days_at_request</th>\n",
       "      <th>...</th>\n",
       "      <th>requester_received_pizza</th>\n",
       "      <th>requester_subreddits_at_request</th>\n",
       "      <th>requester_upvotes_minus_downvotes_at_request</th>\n",
       "      <th>requester_upvotes_minus_downvotes_at_retrieval</th>\n",
       "      <th>requester_upvotes_plus_downvotes_at_request</th>\n",
       "      <th>requester_upvotes_plus_downvotes_at_retrieval</th>\n",
       "      <th>requester_user_flair</th>\n",
       "      <th>requester_username</th>\n",
       "      <th>unix_timestamp_of_request</th>\n",
       "      <th>unix_timestamp_of_request_utc</th>\n",
       "    </tr>\n",
       "  </thead>\n",
       "  <tbody>\n",
       "    <tr>\n",
       "      <th>0</th>\n",
       "      <td>N/A</td>\n",
       "      <td>0</td>\n",
       "      <td>1</td>\n",
       "      <td>0</td>\n",
       "      <td>t3_l25d7</td>\n",
       "      <td>0</td>\n",
       "      <td>Hi I am in need of food for my 4 children we a...</td>\n",
       "      <td>Hi I am in need of food for my 4 children we a...</td>\n",
       "      <td>Request Colorado Springs Help Us Please</td>\n",
       "      <td>0.000000</td>\n",
       "      <td>...</td>\n",
       "      <td>False</td>\n",
       "      <td>[]</td>\n",
       "      <td>0</td>\n",
       "      <td>1</td>\n",
       "      <td>0</td>\n",
       "      <td>1</td>\n",
       "      <td>None</td>\n",
       "      <td>nickylvst</td>\n",
       "      <td>1317852607</td>\n",
       "      <td>1317849007</td>\n",
       "    </tr>\n",
       "    <tr>\n",
       "      <th>1</th>\n",
       "      <td>N/A</td>\n",
       "      <td>2</td>\n",
       "      <td>5</td>\n",
       "      <td>0</td>\n",
       "      <td>t3_rcb83</td>\n",
       "      <td>0</td>\n",
       "      <td>I spent the last money I had on gas today. Im ...</td>\n",
       "      <td>I spent the last money I had on gas today. Im ...</td>\n",
       "      <td>[Request] California, No cash and I could use ...</td>\n",
       "      <td>501.111100</td>\n",
       "      <td>...</td>\n",
       "      <td>False</td>\n",
       "      <td>[AskReddit, Eve, IAmA, MontereyBay, RandomKind...</td>\n",
       "      <td>34</td>\n",
       "      <td>4258</td>\n",
       "      <td>116</td>\n",
       "      <td>11168</td>\n",
       "      <td>None</td>\n",
       "      <td>fohacidal</td>\n",
       "      <td>1332652424</td>\n",
       "      <td>1332648824</td>\n",
       "    </tr>\n",
       "    <tr>\n",
       "      <th>2</th>\n",
       "      <td>N/A</td>\n",
       "      <td>0</td>\n",
       "      <td>3</td>\n",
       "      <td>0</td>\n",
       "      <td>t3_lpu5j</td>\n",
       "      <td>0</td>\n",
       "      <td>My girlfriend decided it would be a good idea ...</td>\n",
       "      <td>My girlfriend decided it would be a good idea ...</td>\n",
       "      <td>[Request] Hungry couple in Dundee, Scotland wo...</td>\n",
       "      <td>0.000000</td>\n",
       "      <td>...</td>\n",
       "      <td>False</td>\n",
       "      <td>[]</td>\n",
       "      <td>0</td>\n",
       "      <td>3</td>\n",
       "      <td>0</td>\n",
       "      <td>3</td>\n",
       "      <td>None</td>\n",
       "      <td>jacquibatman7</td>\n",
       "      <td>1319650094</td>\n",
       "      <td>1319646494</td>\n",
       "    </tr>\n",
       "    <tr>\n",
       "      <th>3</th>\n",
       "      <td>N/A</td>\n",
       "      <td>0</td>\n",
       "      <td>1</td>\n",
       "      <td>1</td>\n",
       "      <td>t3_mxvj3</td>\n",
       "      <td>4</td>\n",
       "      <td>It's cold, I'n hungry, and to be completely ho...</td>\n",
       "      <td>It's cold, I'n hungry, and to be completely ho...</td>\n",
       "      <td>[Request] In Canada (Ontario), just got home f...</td>\n",
       "      <td>6.518438</td>\n",
       "      <td>...</td>\n",
       "      <td>False</td>\n",
       "      <td>[AskReddit, DJs, IAmA, Random_Acts_Of_Pizza]</td>\n",
       "      <td>54</td>\n",
       "      <td>59</td>\n",
       "      <td>76</td>\n",
       "      <td>81</td>\n",
       "      <td>None</td>\n",
       "      <td>4on_the_floor</td>\n",
       "      <td>1322855434</td>\n",
       "      <td>1322855434</td>\n",
       "    </tr>\n",
       "    <tr>\n",
       "      <th>4</th>\n",
       "      <td>N/A</td>\n",
       "      <td>6</td>\n",
       "      <td>6</td>\n",
       "      <td>0</td>\n",
       "      <td>t3_1i6486</td>\n",
       "      <td>5</td>\n",
       "      <td>hey guys:\\n I love this sub. I think it's grea...</td>\n",
       "      <td>hey guys:\\n I love this sub. I think it's grea...</td>\n",
       "      <td>[Request] Old friend coming to visit. Would LO...</td>\n",
       "      <td>162.063252</td>\n",
       "      <td>...</td>\n",
       "      <td>False</td>\n",
       "      <td>[GayBrosWeightLoss, RandomActsOfCookies, Rando...</td>\n",
       "      <td>1121</td>\n",
       "      <td>1225</td>\n",
       "      <td>1733</td>\n",
       "      <td>1887</td>\n",
       "      <td>None</td>\n",
       "      <td>Futuredogwalker</td>\n",
       "      <td>1373657691</td>\n",
       "      <td>1373654091</td>\n",
       "    </tr>\n",
       "  </tbody>\n",
       "</table>\n",
       "<p>5 rows × 32 columns</p>\n",
       "</div>"
      ],
      "text/plain": [
       "  giver_username_if_known  number_of_downvotes_of_request_at_retrieval  \\\n",
       "0                     N/A                                            0   \n",
       "1                     N/A                                            2   \n",
       "2                     N/A                                            0   \n",
       "3                     N/A                                            0   \n",
       "4                     N/A                                            6   \n",
       "\n",
       "   number_of_upvotes_of_request_at_retrieval  post_was_edited request_id  \\\n",
       "0                                          1                0   t3_l25d7   \n",
       "1                                          5                0   t3_rcb83   \n",
       "2                                          3                0   t3_lpu5j   \n",
       "3                                          1                1   t3_mxvj3   \n",
       "4                                          6                0  t3_1i6486   \n",
       "\n",
       "   request_number_of_comments_at_retrieval  \\\n",
       "0                                        0   \n",
       "1                                        0   \n",
       "2                                        0   \n",
       "3                                        4   \n",
       "4                                        5   \n",
       "\n",
       "                                        request_text  \\\n",
       "0  Hi I am in need of food for my 4 children we a...   \n",
       "1  I spent the last money I had on gas today. Im ...   \n",
       "2  My girlfriend decided it would be a good idea ...   \n",
       "3  It's cold, I'n hungry, and to be completely ho...   \n",
       "4  hey guys:\\n I love this sub. I think it's grea...   \n",
       "\n",
       "                             request_text_edit_aware  \\\n",
       "0  Hi I am in need of food for my 4 children we a...   \n",
       "1  I spent the last money I had on gas today. Im ...   \n",
       "2  My girlfriend decided it would be a good idea ...   \n",
       "3  It's cold, I'n hungry, and to be completely ho...   \n",
       "4  hey guys:\\n I love this sub. I think it's grea...   \n",
       "\n",
       "                                       request_title  \\\n",
       "0            Request Colorado Springs Help Us Please   \n",
       "1  [Request] California, No cash and I could use ...   \n",
       "2  [Request] Hungry couple in Dundee, Scotland wo...   \n",
       "3  [Request] In Canada (Ontario), just got home f...   \n",
       "4  [Request] Old friend coming to visit. Would LO...   \n",
       "\n",
       "   requester_account_age_in_days_at_request  ...  requester_received_pizza  \\\n",
       "0                                  0.000000  ...                     False   \n",
       "1                                501.111100  ...                     False   \n",
       "2                                  0.000000  ...                     False   \n",
       "3                                  6.518438  ...                     False   \n",
       "4                                162.063252  ...                     False   \n",
       "\n",
       "                     requester_subreddits_at_request  \\\n",
       "0                                                 []   \n",
       "1  [AskReddit, Eve, IAmA, MontereyBay, RandomKind...   \n",
       "2                                                 []   \n",
       "3       [AskReddit, DJs, IAmA, Random_Acts_Of_Pizza]   \n",
       "4  [GayBrosWeightLoss, RandomActsOfCookies, Rando...   \n",
       "\n",
       "   requester_upvotes_minus_downvotes_at_request  \\\n",
       "0                                             0   \n",
       "1                                            34   \n",
       "2                                             0   \n",
       "3                                            54   \n",
       "4                                          1121   \n",
       "\n",
       "   requester_upvotes_minus_downvotes_at_retrieval  \\\n",
       "0                                               1   \n",
       "1                                            4258   \n",
       "2                                               3   \n",
       "3                                              59   \n",
       "4                                            1225   \n",
       "\n",
       "   requester_upvotes_plus_downvotes_at_request  \\\n",
       "0                                            0   \n",
       "1                                          116   \n",
       "2                                            0   \n",
       "3                                           76   \n",
       "4                                         1733   \n",
       "\n",
       "   requester_upvotes_plus_downvotes_at_retrieval  requester_user_flair  \\\n",
       "0                                              1                  None   \n",
       "1                                          11168                  None   \n",
       "2                                              3                  None   \n",
       "3                                             81                  None   \n",
       "4                                           1887                  None   \n",
       "\n",
       "   requester_username  unix_timestamp_of_request  \\\n",
       "0           nickylvst                 1317852607   \n",
       "1           fohacidal                 1332652424   \n",
       "2       jacquibatman7                 1319650094   \n",
       "3       4on_the_floor                 1322855434   \n",
       "4     Futuredogwalker                 1373657691   \n",
       "\n",
       "   unix_timestamp_of_request_utc  \n",
       "0                     1317849007  \n",
       "1                     1332648824  \n",
       "2                     1319646494  \n",
       "3                     1322855434  \n",
       "4                     1373654091  \n",
       "\n",
       "[5 rows x 32 columns]"
      ]
     },
     "execution_count": 3,
     "metadata": {},
     "output_type": "execute_result"
    }
   ],
   "source": [
    "print(len(df))\n",
    "df.head()"
   ]
  },
  {
   "cell_type": "markdown",
   "id": "34039224",
   "metadata": {},
   "source": [
    "# Balance in users which received pizza or not"
   ]
  },
  {
   "cell_type": "code",
   "execution_count": 4,
   "id": "c3ff73b1",
   "metadata": {},
   "outputs": [
    {
     "data": {
      "text/plain": [
       "False    3046\n",
       "True      994\n",
       "Name: requester_received_pizza, dtype: int64"
      ]
     },
     "execution_count": 4,
     "metadata": {},
     "output_type": "execute_result"
    }
   ],
   "source": [
    "df['requester_received_pizza'].value_counts()"
   ]
  },
  {
   "cell_type": "code",
   "execution_count": 5,
   "id": "2e3cec58",
   "metadata": {},
   "outputs": [
    {
     "data": {
      "text/plain": [
       "<AxesSubplot:>"
      ]
     },
     "execution_count": 5,
     "metadata": {},
     "output_type": "execute_result"
    },
    {
     "data": {
      "image/png": "[encoded data removed]",
      "text/plain": [
       "<Figure size 432x288 with 1 Axes>"
      ]
     },
     "metadata": {
      "needs_background": "light"
     },
     "output_type": "display_data"
    }
   ],
   "source": [
    "df['requester_received_pizza'].value_counts().plot(kind='bar')"
   ]
  },
  {
   "cell_type": "markdown",
   "id": "2940ee4c",
   "metadata": {},
   "source": [
    "# Metadata"
   ]
  },
  {
   "cell_type": "markdown",
   "id": "7e610e85",
   "metadata": {},
   "source": [
    "### Reputation of the requester\n",
    "Maybe if a member is more active they have more chances of getting a pizza"
   ]
  },
  {
   "cell_type": "code",
   "execution_count": 6,
   "id": "9c6fe882",
   "metadata": {},
   "outputs": [
    {
     "data": {
      "text/plain": [
       "0    3848\n",
       "1     146\n",
       "2      34\n",
       "3       8\n",
       "5       3\n",
       "4       1\n",
       "Name: requester_number_of_posts_on_raop_at_request, dtype: int64"
      ]
     },
     "execution_count": 6,
     "metadata": {},
     "output_type": "execute_result"
    }
   ],
   "source": [
    "df['requester_number_of_posts_on_raop_at_request'].value_counts()"
   ]
  },
  {
   "cell_type": "code",
   "execution_count": 7,
   "id": "ba11a3e8",
   "metadata": {},
   "outputs": [
    {
     "data": {
      "text/plain": [
       "Series([], Name: requester_username, dtype: int64)"
      ]
     },
     "execution_count": 7,
     "metadata": {},
     "output_type": "execute_result"
    }
   ],
   "source": [
    "df['requester_username'].value_counts().loc[lambda x : x>1] "
   ]
  },
  {
   "cell_type": "markdown",
   "id": "a7fe5985",
   "metadata": {},
   "source": [
    "This means each requester has made only one request"
   ]
  },
  {
   "cell_type": "code",
   "execution_count": 8,
   "id": "7698ded1",
   "metadata": {},
   "outputs": [
    {
     "data": {
      "text/plain": [
       "None      3046\n",
       "shroom     935\n",
       "PIF         59\n",
       "Name: requester_user_flair, dtype: int64"
      ]
     },
     "execution_count": 8,
     "metadata": {},
     "output_type": "execute_result"
    }
   ],
   "source": [
    "df['requester_user_flair'].value_counts(dropna=False)"
   ]
  },
  {
   "cell_type": "markdown",
   "id": "45ad5b8b",
   "metadata": {},
   "source": [
    "  `requester_user_flair`: Users on RAOP receive badges (Reddit calls them flairs) which is a small picture next to their username. In our data set the user flair is either None (neither given nor received pizza, N=4282), \"shroom\" (received pizza, but not given, N=1306), or \"PIF\" (given after received, N=83).\n",
    "  \n",
    "  -> these numbers confirm that these badges are attributed after user received the pizza"
   ]
  },
  {
   "cell_type": "markdown",
   "id": "6304bfdc",
   "metadata": {},
   "source": [
    "## Relevant information\n",
    "\n",
    "Which columns can actually help in predicting ?\n",
    "\n",
    "**Things which do not help**\n",
    "* Unique infos : requester_username, request_id\n",
    "* Infos after the gift : giver_username_if_known, requester_user_flair\n",
    "* Things probably not relevant or related to raop : post_was_edited, requester_account_age_in_days, requester_days, requester_number_of_comments, requester_number_of_posts, requester_upvotes_plus_downvotes, listr of subreddits names\n",
    "* Things which are obviously correlated to other column: requester_text_edit_aware, unix_timestamp_of_request_utc"
   ]
  },
  {
   "cell_type": "markdown",
   "id": "00a445ff",
   "metadata": {},
   "source": [
    "## Find correlated variables\n",
    "Using Pearson correlation coefficient and p-value, on the rema"
   ]
  },
  {
   "cell_type": "code",
   "execution_count": 9,
   "id": "a4494a2f",
   "metadata": {},
   "outputs": [],
   "source": [
    "data = df[[\"number_of_downvotes_of_request_at_retrieval\",\n",
    "          \"number_of_upvotes_of_request_at_retrieval\",\n",
    "           \"requester_number_of_comments_in_raop_at_request\",\n",
    "           \"requester_number_of_comments_in_raop_at_retrieval\",\n",
    "           \"requester_number_of_posts_on_raop_at_request\",\n",
    "           \"requester_number_of_posts_on_raop_at_retrieval\",\n",
    "           \"requester_number_of_subreddits_at_request\",\n",
    "           \"requester_upvotes_minus_downvotes_at_request\",\n",
    "           \"requester_upvotes_minus_downvotes_at_retrieval\"\n",
    "          ]]"
   ]
  },
  {
   "cell_type": "code",
   "execution_count": 10,
   "id": "1fd031fa",
   "metadata": {},
   "outputs": [
    {
     "data": {
      "text/plain": [
       "<AxesSubplot:>"
      ]
     },
     "execution_count": 10,
     "metadata": {},
     "output_type": "execute_result"
    },
    {
     "data": {
      "image/png": "[encoded data removed]",
      "text/plain": [
       "<Figure size 432x288 with 2 Axes>"
      ]
     },
     "metadata": {
      "needs_background": "light"
     },
     "output_type": "display_data"
    }
   ],
   "source": [
    "sn.heatmap(data.corr(), annot=True, cmap=\"YlGnBu\")"
   ]
  },
  {
   "cell_type": "code",
   "execution_count": 11,
   "id": "4b18d82b",
   "metadata": {},
   "outputs": [
    {
     "data": {
      "text/html": [
       "<div>\n",
       "<style scoped>\n",
       "    .dataframe tbody tr th:only-of-type {\n",
       "        vertical-align: middle;\n",
       "    }\n",
       "\n",
       "    .dataframe tbody tr th {\n",
       "        vertical-align: top;\n",
       "    }\n",
       "\n",
       "    .dataframe thead th {\n",
       "        text-align: right;\n",
       "    }\n",
       "</style>\n",
       "<table border=\"1\" class=\"dataframe\">\n",
       "  <thead>\n",
       "    <tr style=\"text-align: right;\">\n",
       "      <th></th>\n",
       "      <th>number_of_downvotes_of_request_at_retrieval</th>\n",
       "      <th>number_of_upvotes_of_request_at_retrieval</th>\n",
       "      <th>requester_number_of_comments_in_raop_at_request</th>\n",
       "      <th>requester_number_of_comments_in_raop_at_retrieval</th>\n",
       "      <th>requester_number_of_posts_on_raop_at_request</th>\n",
       "      <th>requester_number_of_posts_on_raop_at_retrieval</th>\n",
       "      <th>requester_number_of_subreddits_at_request</th>\n",
       "      <th>requester_upvotes_minus_downvotes_at_request</th>\n",
       "      <th>requester_upvotes_minus_downvotes_at_retrieval</th>\n",
       "    </tr>\n",
       "  </thead>\n",
       "  <tbody>\n",
       "    <tr>\n",
       "      <th>number_of_downvotes_of_request_at_retrieval</th>\n",
       "      <td>0.0</td>\n",
       "      <td>0.0</td>\n",
       "      <td>0.0107</td>\n",
       "      <td>0.0</td>\n",
       "      <td>0.0</td>\n",
       "      <td>0.0</td>\n",
       "      <td>0.8681</td>\n",
       "      <td>0.0056</td>\n",
       "      <td>0.2426</td>\n",
       "    </tr>\n",
       "    <tr>\n",
       "      <th>number_of_upvotes_of_request_at_retrieval</th>\n",
       "      <td>0.0</td>\n",
       "      <td>0.0</td>\n",
       "      <td>0.4935</td>\n",
       "      <td>0.0</td>\n",
       "      <td>0.0718</td>\n",
       "      <td>0.0</td>\n",
       "      <td>0.0651</td>\n",
       "      <td>0.0094</td>\n",
       "      <td>0.0</td>\n",
       "    </tr>\n",
       "    <tr>\n",
       "      <th>requester_number_of_comments_in_raop_at_request</th>\n",
       "      <td>0.0107</td>\n",
       "      <td>0.4935</td>\n",
       "      <td>0.0</td>\n",
       "      <td>0.0</td>\n",
       "      <td>0.0</td>\n",
       "      <td>0.0</td>\n",
       "      <td>0.0</td>\n",
       "      <td>0.0</td>\n",
       "      <td>0.0</td>\n",
       "    </tr>\n",
       "    <tr>\n",
       "      <th>requester_number_of_comments_in_raop_at_retrieval</th>\n",
       "      <td>0.0</td>\n",
       "      <td>0.0</td>\n",
       "      <td>0.0</td>\n",
       "      <td>0.0</td>\n",
       "      <td>0.0</td>\n",
       "      <td>0.0</td>\n",
       "      <td>0.0035</td>\n",
       "      <td>0.0</td>\n",
       "      <td>0.0003</td>\n",
       "    </tr>\n",
       "    <tr>\n",
       "      <th>requester_number_of_posts_on_raop_at_request</th>\n",
       "      <td>0.0</td>\n",
       "      <td>0.0718</td>\n",
       "      <td>0.0</td>\n",
       "      <td>0.0</td>\n",
       "      <td>0.0</td>\n",
       "      <td>0.0</td>\n",
       "      <td>0.0006</td>\n",
       "      <td>0.0</td>\n",
       "      <td>0.0</td>\n",
       "    </tr>\n",
       "    <tr>\n",
       "      <th>requester_number_of_posts_on_raop_at_retrieval</th>\n",
       "      <td>0.0</td>\n",
       "      <td>0.0</td>\n",
       "      <td>0.0</td>\n",
       "      <td>0.0</td>\n",
       "      <td>0.0</td>\n",
       "      <td>0.0</td>\n",
       "      <td>0.0031</td>\n",
       "      <td>0.0</td>\n",
       "      <td>0.0</td>\n",
       "    </tr>\n",
       "    <tr>\n",
       "      <th>requester_number_of_subreddits_at_request</th>\n",
       "      <td>0.8681</td>\n",
       "      <td>0.0651</td>\n",
       "      <td>0.0</td>\n",
       "      <td>0.0035</td>\n",
       "      <td>0.0006</td>\n",
       "      <td>0.0031</td>\n",
       "      <td>0.0</td>\n",
       "      <td>0.0</td>\n",
       "      <td>0.0</td>\n",
       "    </tr>\n",
       "    <tr>\n",
       "      <th>requester_upvotes_minus_downvotes_at_request</th>\n",
       "      <td>0.0056</td>\n",
       "      <td>0.0094</td>\n",
       "      <td>0.0</td>\n",
       "      <td>0.0</td>\n",
       "      <td>0.0</td>\n",
       "      <td>0.0</td>\n",
       "      <td>0.0</td>\n",
       "      <td>0.0</td>\n",
       "      <td>0.0</td>\n",
       "    </tr>\n",
       "    <tr>\n",
       "      <th>requester_upvotes_minus_downvotes_at_retrieval</th>\n",
       "      <td>0.2426</td>\n",
       "      <td>0.0</td>\n",
       "      <td>0.0</td>\n",
       "      <td>0.0003</td>\n",
       "      <td>0.0</td>\n",
       "      <td>0.0</td>\n",
       "      <td>0.0</td>\n",
       "      <td>0.0</td>\n",
       "      <td>0.0</td>\n",
       "    </tr>\n",
       "  </tbody>\n",
       "</table>\n",
       "</div>"
      ],
      "text/plain": [
       "                                                  number_of_downvotes_of_request_at_retrieval  \\\n",
       "number_of_downvotes_of_request_at_retrieval                                               0.0   \n",
       "number_of_upvotes_of_request_at_retrieval                                                 0.0   \n",
       "requester_number_of_comments_in_raop_at_request                                        0.0107   \n",
       "requester_number_of_comments_in_raop_at_retrieval                                         0.0   \n",
       "requester_number_of_posts_on_raop_at_request                                              0.0   \n",
       "requester_number_of_posts_on_raop_at_retrieval                                            0.0   \n",
       "requester_number_of_subreddits_at_request                                              0.8681   \n",
       "requester_upvotes_minus_downvotes_at_request                                           0.0056   \n",
       "requester_upvotes_minus_downvotes_at_retrieval                                         0.2426   \n",
       "\n",
       "                                                  number_of_upvotes_of_request_at_retrieval  \\\n",
       "number_of_downvotes_of_request_at_retrieval                                             0.0   \n",
       "number_of_upvotes_of_request_at_retrieval                                               0.0   \n",
       "requester_number_of_comments_in_raop_at_request                                      0.4935   \n",
       "requester_number_of_comments_in_raop_at_retrieval                                       0.0   \n",
       "requester_number_of_posts_on_raop_at_request                                         0.0718   \n",
       "requester_number_of_posts_on_raop_at_retrieval                                          0.0   \n",
       "requester_number_of_subreddits_at_request                                            0.0651   \n",
       "requester_upvotes_minus_downvotes_at_request                                         0.0094   \n",
       "requester_upvotes_minus_downvotes_at_retrieval                                          0.0   \n",
       "\n",
       "                                                  requester_number_of_comments_in_raop_at_request  \\\n",
       "number_of_downvotes_of_request_at_retrieval                                                0.0107   \n",
       "number_of_upvotes_of_request_at_retrieval                                                  0.4935   \n",
       "requester_number_of_comments_in_raop_at_request                                               0.0   \n",
       "requester_number_of_comments_in_raop_at_retrieval                                             0.0   \n",
       "requester_number_of_posts_on_raop_at_request                                                  0.0   \n",
       "requester_number_of_posts_on_raop_at_retrieval                                                0.0   \n",
       "requester_number_of_subreddits_at_request                                                     0.0   \n",
       "requester_upvotes_minus_downvotes_at_request                                                  0.0   \n",
       "requester_upvotes_minus_downvotes_at_retrieval                                                0.0   \n",
       "\n",
       "                                                  requester_number_of_comments_in_raop_at_retrieval  \\\n",
       "number_of_downvotes_of_request_at_retrieval                                                     0.0   \n",
       "number_of_upvotes_of_request_at_retrieval                                                       0.0   \n",
       "requester_number_of_comments_in_raop_at_request                                                 0.0   \n",
       "requester_number_of_comments_in_raop_at_retrieval                                               0.0   \n",
       "requester_number_of_posts_on_raop_at_request                                                    0.0   \n",
       "requester_number_of_posts_on_raop_at_retrieval                                                  0.0   \n",
       "requester_number_of_subreddits_at_request                                                    0.0035   \n",
       "requester_upvotes_minus_downvotes_at_request                                                    0.0   \n",
       "requester_upvotes_minus_downvotes_at_retrieval                                               0.0003   \n",
       "\n",
       "                                                  requester_number_of_posts_on_raop_at_request  \\\n",
       "number_of_downvotes_of_request_at_retrieval                                                0.0   \n",
       "number_of_upvotes_of_request_at_retrieval                                               0.0718   \n",
       "requester_number_of_comments_in_raop_at_request                                            0.0   \n",
       "requester_number_of_comments_in_raop_at_retrieval                                          0.0   \n",
       "requester_number_of_posts_on_raop_at_request                                               0.0   \n",
       "requester_number_of_posts_on_raop_at_retrieval                                             0.0   \n",
       "requester_number_of_subreddits_at_request                                               0.0006   \n",
       "requester_upvotes_minus_downvotes_at_request                                               0.0   \n",
       "requester_upvotes_minus_downvotes_at_retrieval                                             0.0   \n",
       "\n",
       "                                                  requester_number_of_posts_on_raop_at_retrieval  \\\n",
       "number_of_downvotes_of_request_at_retrieval                                                  0.0   \n",
       "number_of_upvotes_of_request_at_retrieval                                                    0.0   \n",
       "requester_number_of_comments_in_raop_at_request                                              0.0   \n",
       "requester_number_of_comments_in_raop_at_retrieval                                            0.0   \n",
       "requester_number_of_posts_on_raop_at_request                                                 0.0   \n",
       "requester_number_of_posts_on_raop_at_retrieval                                               0.0   \n",
       "requester_number_of_subreddits_at_request                                                 0.0031   \n",
       "requester_upvotes_minus_downvotes_at_request                                                 0.0   \n",
       "requester_upvotes_minus_downvotes_at_retrieval                                               0.0   \n",
       "\n",
       "                                                  requester_number_of_subreddits_at_request  \\\n",
       "number_of_downvotes_of_request_at_retrieval                                          0.8681   \n",
       "number_of_upvotes_of_request_at_retrieval                                            0.0651   \n",
       "requester_number_of_comments_in_raop_at_request                                         0.0   \n",
       "requester_number_of_comments_in_raop_at_retrieval                                    0.0035   \n",
       "requester_number_of_posts_on_raop_at_request                                         0.0006   \n",
       "requester_number_of_posts_on_raop_at_retrieval                                       0.0031   \n",
       "requester_number_of_subreddits_at_request                                               0.0   \n",
       "requester_upvotes_minus_downvotes_at_request                                            0.0   \n",
       "requester_upvotes_minus_downvotes_at_retrieval                                          0.0   \n",
       "\n",
       "                                                  requester_upvotes_minus_downvotes_at_request  \\\n",
       "number_of_downvotes_of_request_at_retrieval                                             0.0056   \n",
       "number_of_upvotes_of_request_at_retrieval                                               0.0094   \n",
       "requester_number_of_comments_in_raop_at_request                                            0.0   \n",
       "requester_number_of_comments_in_raop_at_retrieval                                          0.0   \n",
       "requester_number_of_posts_on_raop_at_request                                               0.0   \n",
       "requester_number_of_posts_on_raop_at_retrieval                                             0.0   \n",
       "requester_number_of_subreddits_at_request                                                  0.0   \n",
       "requester_upvotes_minus_downvotes_at_request                                               0.0   \n",
       "requester_upvotes_minus_downvotes_at_retrieval                                             0.0   \n",
       "\n",
       "                                                  requester_upvotes_minus_downvotes_at_retrieval  \n",
       "number_of_downvotes_of_request_at_retrieval                                               0.2426  \n",
       "number_of_upvotes_of_request_at_retrieval                                                    0.0  \n",
       "requester_number_of_comments_in_raop_at_request                                              0.0  \n",
       "requester_number_of_comments_in_raop_at_retrieval                                         0.0003  \n",
       "requester_number_of_posts_on_raop_at_request                                                 0.0  \n",
       "requester_number_of_posts_on_raop_at_retrieval                                               0.0  \n",
       "requester_number_of_subreddits_at_request                                                    0.0  \n",
       "requester_upvotes_minus_downvotes_at_request                                                 0.0  \n",
       "requester_upvotes_minus_downvotes_at_retrieval                                               0.0  "
      ]
     },
     "execution_count": 11,
     "metadata": {},
     "output_type": "execute_result"
    }
   ],
   "source": [
    "from scipy.stats import pearsonr\n",
    "\n",
    "def calculate_pvalues(df):\n",
    "    df = df.dropna()._get_numeric_data()\n",
    "    dfcols = pd.DataFrame(columns=df.columns)\n",
    "    pvalues = dfcols.transpose().join(dfcols, how='outer')\n",
    "    for r in df.columns:\n",
    "        for c in df.columns:\n",
    "            pvalues[r][c] = round(pearsonr(df[r], df[c])[1], 4)\n",
    "    return pvalues\n",
    "\n",
    "calculate_pvalues(data)"
   ]
  },
  {
   "cell_type": "markdown",
   "id": "3457e087",
   "metadata": {},
   "source": [
    "### Correlation results\n",
    "\n",
    "We use the threshold recommended by Evans (1996) : **correlation coeff >= 0.6** to decide that 2 variables are strongly correlated. We consider that the correlation test of 2 variables is valid if the **p-value is < 0.05**.\n",
    "According to these criteria, the following variables are correlated:\n",
    "* number_of_downvotes_of_request_at_retrieval and number_of_upvotes_of_request_at_retrieval\n",
    "* requester_number_of_comments_in_raop_at_request and requester_number_of_comments_in_raop_at_retrieval\n",
    "* requester_number_of_posts_on_raop_at_request and requester_number_of_posts_on_raop_at_retrieval\n",
    "* requester_upvotes_minus_downvotes_at_request and requester_upvotes_minus_downvotes_at_retrieval (strong)\n",
    "\n",
    "however the number of downvotes and upvotes are obviously not correlated so we keep both of them and merge them into one variable : number_of_upvotes_minus_downvotes_of_request\n",
    "\n",
    "We observe in the reddit channel that donators react quite fast to the comments (usually the same day) while there can be several weeks between request and retrieval. Therefore for a situation closer to what the donator had **we chose to keep the variables \"at_request\"**."
   ]
  },
  {
   "cell_type": "markdown",
   "id": "e382b0c7",
   "metadata": {},
   "source": [
    "# Text data\n",
    "\n",
    "Inspiration from https://towardsdatascience.com/text-classification-in-python-dd95d264c802"
   ]
  },
  {
   "cell_type": "markdown",
   "id": "f9536399",
   "metadata": {},
   "source": [
    "### Difference between columns text and text_edit_aware\n",
    "\n",
    "According to https://cs.stanford.edu/~althoff/raop-dataset/,\n",
    "`We use a set of rules to strip edited comments indicating the success of the request such as \"EDIT: Thanks /u/foo, the pizza was delicous\".` "
   ]
  },
  {
   "cell_type": "code",
   "execution_count": 12,
   "id": "52d1f184",
   "metadata": {},
   "outputs": [
    {
     "data": {
      "text/plain": [
       "True     3891\n",
       "False     149\n",
       "Name: same_text, dtype: int64"
      ]
     },
     "execution_count": 12,
     "metadata": {},
     "output_type": "execute_result"
    }
   ],
   "source": [
    "dftxt = df[['request_text','request_text_edit_aware']].copy()\n",
    "\n",
    "dftxt['same_text'] = np.where( dftxt['request_text'] == dftxt['request_text_edit_aware'] , True, False)\n",
    "dftxt['same_text'].value_counts()"
   ]
  },
  {
   "cell_type": "code",
   "execution_count": 13,
   "id": "61098c84",
   "metadata": {},
   "outputs": [
    {
     "data": {
      "text/html": [
       "<div>\n",
       "<style scoped>\n",
       "    .dataframe tbody tr th:only-of-type {\n",
       "        vertical-align: middle;\n",
       "    }\n",
       "\n",
       "    .dataframe tbody tr th {\n",
       "        vertical-align: top;\n",
       "    }\n",
       "\n",
       "    .dataframe thead th {\n",
       "        text-align: right;\n",
       "    }\n",
       "</style>\n",
       "<table border=\"1\" class=\"dataframe\">\n",
       "  <thead>\n",
       "    <tr style=\"text-align: right;\">\n",
       "      <th></th>\n",
       "      <th>request_text</th>\n",
       "      <th>request_text_edit_aware</th>\n",
       "      <th>same_text</th>\n",
       "    </tr>\n",
       "  </thead>\n",
       "  <tbody>\n",
       "    <tr>\n",
       "      <th>9</th>\n",
       "      <td>Austin, Texas\\n\\nMy two roommates and I are hu...</td>\n",
       "      <td>Austin, Texas\\n\\nMy two roommates and I are hu...</td>\n",
       "      <td>False</td>\n",
       "    </tr>\n",
       "    <tr>\n",
       "      <th>84</th>\n",
       "      <td>I'm a college grad living in NYC. Interning to...</td>\n",
       "      <td>I'm a college grad living in NYC. Interning to...</td>\n",
       "      <td>False</td>\n",
       "    </tr>\n",
       "    <tr>\n",
       "      <th>110</th>\n",
       "      <td>Hungry as heck, I'm just looking for a good pe...</td>\n",
       "      <td>Hungry as heck, I'm just looking for a good pe...</td>\n",
       "      <td>False</td>\n",
       "    </tr>\n",
       "    <tr>\n",
       "      <th>131</th>\n",
       "      <td>Don't know where to start. My brother tried to...</td>\n",
       "      <td>Don't know where to start. My brother tried to...</td>\n",
       "      <td>False</td>\n",
       "    </tr>\n",
       "    <tr>\n",
       "      <th>207</th>\n",
       "      <td>I'm sure there are needier people on this subr...</td>\n",
       "      <td>I'm sure there are needier people on this subr...</td>\n",
       "      <td>False</td>\n",
       "    </tr>\n",
       "    <tr>\n",
       "      <th>...</th>\n",
       "      <td>...</td>\n",
       "      <td>...</td>\n",
       "      <td>...</td>\n",
       "    </tr>\n",
       "    <tr>\n",
       "      <th>3901</th>\n",
       "      <td>So my story... I'm a university student, busy ...</td>\n",
       "      <td>So my story... I'm a university student, busy ...</td>\n",
       "      <td>False</td>\n",
       "    </tr>\n",
       "    <tr>\n",
       "      <th>3979</th>\n",
       "      <td>Hey guys, I've been living off of protein shak...</td>\n",
       "      <td>Hey guys, I've been living off of protein shak...</td>\n",
       "      <td>False</td>\n",
       "    </tr>\n",
       "    <tr>\n",
       "      <th>3996</th>\n",
       "      <td>**Edit:**  I received a gift card from a fello...</td>\n",
       "      <td>*</td>\n",
       "      <td>False</td>\n",
       "    </tr>\n",
       "    <tr>\n",
       "      <th>4012</th>\n",
       "      <td>Hi, I've never requested this before and I fee...</td>\n",
       "      <td>Hi, I've never requested this before and I fee...</td>\n",
       "      <td>False</td>\n",
       "    </tr>\n",
       "    <tr>\n",
       "      <th>4024</th>\n",
       "      <td>**EDIT! The wonderful Hrnmyd has provided me w...</td>\n",
       "      <td>*</td>\n",
       "      <td>False</td>\n",
       "    </tr>\n",
       "  </tbody>\n",
       "</table>\n",
       "<p>149 rows × 3 columns</p>\n",
       "</div>"
      ],
      "text/plain": [
       "                                           request_text  \\\n",
       "9     Austin, Texas\\n\\nMy two roommates and I are hu...   \n",
       "84    I'm a college grad living in NYC. Interning to...   \n",
       "110   Hungry as heck, I'm just looking for a good pe...   \n",
       "131   Don't know where to start. My brother tried to...   \n",
       "207   I'm sure there are needier people on this subr...   \n",
       "...                                                 ...   \n",
       "3901  So my story... I'm a university student, busy ...   \n",
       "3979  Hey guys, I've been living off of protein shak...   \n",
       "3996  **Edit:**  I received a gift card from a fello...   \n",
       "4012  Hi, I've never requested this before and I fee...   \n",
       "4024  **EDIT! The wonderful Hrnmyd has provided me w...   \n",
       "\n",
       "                                request_text_edit_aware  same_text  \n",
       "9     Austin, Texas\\n\\nMy two roommates and I are hu...      False  \n",
       "84    I'm a college grad living in NYC. Interning to...      False  \n",
       "110   Hungry as heck, I'm just looking for a good pe...      False  \n",
       "131   Don't know where to start. My brother tried to...      False  \n",
       "207   I'm sure there are needier people on this subr...      False  \n",
       "...                                                 ...        ...  \n",
       "3901  So my story... I'm a university student, busy ...      False  \n",
       "3979  Hey guys, I've been living off of protein shak...      False  \n",
       "3996                                                  *      False  \n",
       "4012  Hi, I've never requested this before and I fee...      False  \n",
       "4024                                                  *      False  \n",
       "\n",
       "[149 rows x 3 columns]"
      ]
     },
     "execution_count": 13,
     "metadata": {},
     "output_type": "execute_result"
    }
   ],
   "source": [
    "dftxt[dftxt['same_text']==False]"
   ]
  },
  {
   "cell_type": "code",
   "execution_count": 14,
   "id": "14bb1b86",
   "metadata": {},
   "outputs": [
    {
     "data": {
      "text/html": [
       "<div>\n",
       "<style scoped>\n",
       "    .dataframe tbody tr th:only-of-type {\n",
       "        vertical-align: middle;\n",
       "    }\n",
       "\n",
       "    .dataframe tbody tr th {\n",
       "        vertical-align: top;\n",
       "    }\n",
       "\n",
       "    .dataframe thead th {\n",
       "        text-align: right;\n",
       "    }\n",
       "</style>\n",
       "<table border=\"1\" class=\"dataframe\">\n",
       "  <thead>\n",
       "    <tr style=\"text-align: right;\">\n",
       "      <th></th>\n",
       "      <th>request_text</th>\n",
       "      <th>request_text_edit_aware</th>\n",
       "      <th>same_text</th>\n",
       "    </tr>\n",
       "  </thead>\n",
       "  <tbody>\n",
       "    <tr>\n",
       "      <th>2186</th>\n",
       "      <td>**EDIT**: [flamingcow](http://www.reddit.com/u...</td>\n",
       "      <td>*</td>\n",
       "      <td>False</td>\n",
       "    </tr>\n",
       "    <tr>\n",
       "      <th>2193</th>\n",
       "      <td>**EDIT** I am situated here in Atlanta, Georgi...</td>\n",
       "      <td>*</td>\n",
       "      <td>False</td>\n",
       "    </tr>\n",
       "    <tr>\n",
       "      <th>3178</th>\n",
       "      <td>**edit - uninvitedthirteenth gifted me a pizza...</td>\n",
       "      <td>*</td>\n",
       "      <td>False</td>\n",
       "    </tr>\n",
       "    <tr>\n",
       "      <th>3996</th>\n",
       "      <td>**Edit:**  I received a gift card from a fello...</td>\n",
       "      <td>*</td>\n",
       "      <td>False</td>\n",
       "    </tr>\n",
       "    <tr>\n",
       "      <th>4024</th>\n",
       "      <td>**EDIT! The wonderful Hrnmyd has provided me w...</td>\n",
       "      <td>*</td>\n",
       "      <td>False</td>\n",
       "    </tr>\n",
       "  </tbody>\n",
       "</table>\n",
       "</div>"
      ],
      "text/plain": [
       "                                           request_text  \\\n",
       "2186  **EDIT**: [flamingcow](http://www.reddit.com/u...   \n",
       "2193  **EDIT** I am situated here in Atlanta, Georgi...   \n",
       "3178  **edit - uninvitedthirteenth gifted me a pizza...   \n",
       "3996  **Edit:**  I received a gift card from a fello...   \n",
       "4024  **EDIT! The wonderful Hrnmyd has provided me w...   \n",
       "\n",
       "     request_text_edit_aware  same_text  \n",
       "2186                       *      False  \n",
       "2193                       *      False  \n",
       "3178                       *      False  \n",
       "3996                       *      False  \n",
       "4024                       *      False  "
      ]
     },
     "execution_count": 14,
     "metadata": {},
     "output_type": "execute_result"
    }
   ],
   "source": [
    "dftxt[dftxt['request_text_edit_aware']=='*']"
   ]
  },
  {
   "cell_type": "markdown",
   "id": "9c6beaa8",
   "metadata": {},
   "source": [
    "### Conclusion:\n",
    "I manually checked a few of the texts where request_text and request_text_edit_aware are not the same, a lot of times the EDIT from request_text is not about thanking a donator, it is more about adding some new contextual information which might have convinced the people to give them a pizza.\n",
    "Therefore **we prefer to use request_text** and discard column request_text_edit_aware."
   ]
  },
  {
   "cell_type": "markdown",
   "id": "bcb492b0",
   "metadata": {},
   "source": [
    "## Clean text"
   ]
  },
  {
   "cell_type": "code",
   "execution_count": 15,
   "id": "5b1783c4",
   "metadata": {},
   "outputs": [],
   "source": [
    "%%capture\n",
    "!pip install nltk"
   ]
  },
  {
   "cell_type": "code",
   "execution_count": 19,
   "id": "a053b4c3",
   "metadata": {},
   "outputs": [
    {
     "data": {
      "text/plain": [
       "\"\\nimport nltk\\nnltk.download('stopwords')\\nnltk.download('wordnet')\\nnltk.download('omw-1.4')\\nnltk.download('punkt')\\nnltk.download('averaged_perceptron_tagger')\""
      ]
     },
     "execution_count": 19,
     "metadata": {},
     "output_type": "execute_result"
    }
   ],
   "source": [
    "\"\"\"\n",
    "import nltk\n",
    "nltk.download('stopwords')\n",
    "nltk.download('wordnet')\n",
    "nltk.download('omw-1.4')\n",
    "nltk.download('punkt')\n",
    "nltk.download('averaged_perceptron_tagger')\"\"\""
   ]
  },
  {
   "cell_type": "code",
   "execution_count": 17,
   "id": "d86dcad9",
   "metadata": {},
   "outputs": [],
   "source": [
    "txt = \"[Request] College student, pay check delayed for a week, all out of food pantry food, and haven't eaten today\""
   ]
  },
  {
   "cell_type": "code",
   "execution_count": 24,
   "id": "c50ac2e2",
   "metadata": {},
   "outputs": [],
   "source": [
    "import nltk\n",
    "from nltk.corpus import wordnet as wn\n",
    "from nltk.stem import WordNetLemmatizer \n",
    "from nltk.tokenize import word_tokenize\n",
    "from nltk.corpus import stopwords\n",
    "\n",
    "punctuation = list(\",.?!(){}[]-_\\\"'\\\\;:+*<>@#§^$%&|/\") + ['\\n', '\\r', '\\t', '...', '..']\n",
    "stop_words = set(stopwords.words('english'))\n",
    "stop_words.add(\"request\")\n",
    "\n",
    "lemmatizer = WordNetLemmatizer()\n",
    "tag_dict = {\"J\": wn.ADJ,\n",
    "            \"N\": wn.NOUN,\n",
    "            \"V\": wn.VERB,\n",
    "            \"R\": wn.ADV}\n",
    "\n",
    "def extract_wnpostag_from_postag(tag):\n",
    "    #take the first letter of the tag\n",
    "    #the second parameter is an \"optional\" in case of missing key in the dictionary \n",
    "    return tag_dict.get(tag[0].upper(), None)\n",
    "\n",
    "def lemmatize_tupla_word_postag(tupla):\n",
    "    \"\"\"\n",
    "    giving a tupla of the form (wordString, posTagString) like ('guitar', 'NN'), return the lemmatized word\n",
    "    \"\"\"\n",
    "    tag = extract_wnpostag_from_postag(tupla[1])    \n",
    "    return lemmatizer.lemmatize(tupla[0], tag) if tag is not None else tupla[0]\n",
    "\n",
    "def correspondance_miswrite(word):\n",
    "    if word == \"im\":\n",
    "        return \"i'm\"\n",
    "    elif word == \"ive\":\n",
    "        return \"i've\"\n",
    "\n",
    "def clean_text(sentence):\n",
    "    sentence = sentence.lower()\n",
    "    original_words = word_tokenize(sentence)\n",
    "    tagged_words = nltk.pos_tag(original_words) #returns a list of tuples: (word, tagString) like ('And', 'CC')\n",
    "    lemmatized_words = [ lemmatize_tupla_word_postag(ow) for ow in tagged_words ]\n",
    "    cleaned_words = [ \n",
    "        w for w in lemmatized_words if (w not in punctuation) and (w not in stop_words)\n",
    "    ]\n",
    "    return ' '.join(cleaned_words)"
   ]
  },
  {
   "cell_type": "code",
   "execution_count": 25,
   "id": "93908978",
   "metadata": {},
   "outputs": [
    {
     "data": {
      "text/plain": [
       "\"college student pay check delay week food pantry food n't eat today\""
      ]
     },
     "execution_count": 25,
     "metadata": {},
     "output_type": "execute_result"
    }
   ],
   "source": [
    "clean_text(txt)"
   ]
  },
  {
   "cell_type": "markdown",
   "id": "7ece6ac2",
   "metadata": {},
   "source": [
    "## Text length"
   ]
  },
  {
   "cell_type": "code",
   "execution_count": 39,
   "id": "c977068f",
   "metadata": {},
   "outputs": [],
   "source": [
    "df['len_title'] = df['request_title'].str.len()\n",
    "df['len_text'] = df['request_text'].str.len()"
   ]
  },
  {
   "cell_type": "code",
   "execution_count": 52,
   "id": "7f78a413",
   "metadata": {},
   "outputs": [
    {
     "data": {
      "image/png": "[encoded data removed]",
      "text/plain": [
       "<Figure size 921.6x432 with 1 Axes>"
      ]
     },
     "metadata": {
      "needs_background": "light"
     },
     "output_type": "display_data"
    }
   ],
   "source": [
    "import matplotlib.pyplot as plt\n",
    "\n",
    "plt.figure(figsize=(12.8,6))\n",
    "sn.histplot(df['len_title']).set_title('Requests title length distribution');"
   ]
  },
  {
   "cell_type": "code",
   "execution_count": 66,
   "id": "0424beb6",
   "metadata": {},
   "outputs": [
    {
     "name": "stdout",
     "output_type": "stream",
     "text": [
      "Num requests with very long title:  2\n",
      "\n",
      " Example of a request:\n",
      "------ Title ----------\n",
      "[REQUEST] Myrtle Beach, SC. Cousin and I moved out recently. He is unemployed and we have been living very meager (can't eat out at all.) We were talking about pizza the other day and how much we miss it. If anyone would kindly donate we would be forever grateful!\n",
      "------ Text ----------\n",
      " Stumbled across this subreddit and figured it was worth a shot. My cousin and I moved out on our own a few weeks ago and he is unemployed. I have been paying all bills/ buying all groceries and other expenses. We've been living very meager and haven't eaten out since we moved. We were talking the other day about how we would love a pizza. I anyone would kindly donate we would be very appreciative and would most certainly reciprocate in any way we can.\n"
     ]
    }
   ],
   "source": [
    "title_250 = df[df['len_title'] > 250]\n",
    "print('Num requests with very long title: ', len(title_250))\n",
    "print('\\n Example of a request:')\n",
    "print('------ Title ----------')\n",
    "print(title_250['request_title'].iloc[0])\n",
    "print('------ Text ----------')\n",
    "print(title_250['request_text'].iloc[0])"
   ]
  },
  {
   "cell_type": "code",
   "execution_count": 68,
   "id": "276493e8",
   "metadata": {},
   "outputs": [
    {
     "data": {
      "image/png": "[encoded data removed]",
      "text/plain": [
       "<Figure size 921.6x432 with 1 Axes>"
      ]
     },
     "metadata": {
      "needs_background": "light"
     },
     "output_type": "display_data"
    }
   ],
   "source": [
    "plt.figure(figsize=(12.8,6))\n",
    "sn.boxplot(data=df, x='requester_received_pizza', y='len_title');"
   ]
  },
  {
   "cell_type": "code",
   "execution_count": 54,
   "id": "9b1b7438",
   "metadata": {},
   "outputs": [
    {
     "data": {
      "image/png": "[encoded data removed]",
      "text/plain": [
       "<Figure size 921.6x432 with 1 Axes>"
      ]
     },
     "metadata": {
      "needs_background": "light"
     },
     "output_type": "display_data"
    }
   ],
   "source": [
    "plt.figure(figsize=(12.8,6))\n",
    "sn.histplot(df['len_text']).set_title('Requests text length distribution');"
   ]
  },
  {
   "cell_type": "code",
   "execution_count": 55,
   "id": "c100de84",
   "metadata": {},
   "outputs": [
    {
     "data": {
      "text/plain": [
       "count    4040.000000\n",
       "mean      405.243317\n",
       "std       373.329466\n",
       "min         0.000000\n",
       "25%       182.000000\n",
       "50%       307.000000\n",
       "75%       510.000000\n",
       "max      4460.000000\n",
       "Name: len_text, dtype: float64"
      ]
     },
     "execution_count": 55,
     "metadata": {},
     "output_type": "execute_result"
    }
   ],
   "source": [
    "df['len_text'].describe()"
   ]
  },
  {
   "cell_type": "code",
   "execution_count": 60,
   "id": "2a14eb0c",
   "metadata": {},
   "outputs": [
    {
     "data": {
      "text/plain": [
       "Text(0.5, 1.0, 'Requests text length distribution')"
      ]
     },
     "execution_count": 60,
     "metadata": {},
     "output_type": "execute_result"
    },
    {
     "data": {
      "image/png": "[encoded data removed]",
      "text/plain": [
       "<Figure size 921.6x432 with 1 Axes>"
      ]
     },
     "metadata": {
      "needs_background": "light"
     },
     "output_type": "display_data"
    }
   ],
   "source": [
    "plt.figure(figsize=(12.8,6))\n",
    "df_95 = df[df['len_text'] < df['len_text'].quantile(0.95)]\n",
    "sn.histplot(df_95['len_text']).set_title('Requests text length distribution')"
   ]
  },
  {
   "cell_type": "code",
   "execution_count": 67,
   "id": "f22f80a6",
   "metadata": {},
   "outputs": [
    {
     "data": {
      "image/png": "[encoded data removed]",
      "text/plain": [
       "<Figure size 921.6x432 with 1 Axes>"
      ]
     },
     "metadata": {
      "needs_background": "light"
     },
     "output_type": "display_data"
    }
   ],
   "source": [
    "plt.figure(figsize=(12.8,6))\n",
    "sn.boxplot(data=df_95, x='requester_received_pizza', y='len_text');"
   ]
  },
  {
   "cell_type": "markdown",
   "id": "a09593cc",
   "metadata": {},
   "source": [
    "## Text data reduction"
   ]
  },
  {
   "cell_type": "code",
   "execution_count": 30,
   "id": "40639446",
   "metadata": {},
   "outputs": [],
   "source": [
    "def clean_col(row, col):\n",
    "    return clean_text(row[col])\n",
    "\n",
    "df['cleaned_title'] = df.apply(lambda x: clean_col(x, 'request_title'), axis =1)\n",
    "df['cleaned_text'] = df.apply(lambda x: clean_col(x, 'request_text'), axis =1)"
   ]
  },
  {
   "cell_type": "code",
   "execution_count": 31,
   "id": "b618ce89",
   "metadata": {},
   "outputs": [
    {
     "data": {
      "text/html": [
       "<div>\n",
       "<style scoped>\n",
       "    .dataframe tbody tr th:only-of-type {\n",
       "        vertical-align: middle;\n",
       "    }\n",
       "\n",
       "    .dataframe tbody tr th {\n",
       "        vertical-align: top;\n",
       "    }\n",
       "\n",
       "    .dataframe thead th {\n",
       "        text-align: right;\n",
       "    }\n",
       "</style>\n",
       "<table border=\"1\" class=\"dataframe\">\n",
       "  <thead>\n",
       "    <tr style=\"text-align: right;\">\n",
       "      <th></th>\n",
       "      <th>cleaned_title</th>\n",
       "      <th>cleaned_text</th>\n",
       "      <th>requester_received_pizza</th>\n",
       "    </tr>\n",
       "  </thead>\n",
       "  <tbody>\n",
       "    <tr>\n",
       "      <th>0</th>\n",
       "      <td>colorado spring help us please</td>\n",
       "      <td>hi need food 4 child military family really hi...</td>\n",
       "      <td>False</td>\n",
       "    </tr>\n",
       "    <tr>\n",
       "      <th>1</th>\n",
       "      <td>california cash could use dinner</td>\n",
       "      <td>spend last money gas today im break next thursday</td>\n",
       "      <td>False</td>\n",
       "    </tr>\n",
       "    <tr>\n",
       "      <th>2</th>\n",
       "      <td>hungry couple dundee scotland would love pizza</td>\n",
       "      <td>girlfriend decide would good idea get perth bu...</td>\n",
       "      <td>False</td>\n",
       "    </tr>\n",
       "    <tr>\n",
       "      <th>3</th>\n",
       "      <td>canada ontario get home school need pizza</td>\n",
       "      <td>'s cold i'n hungry completely honest 'm broke ...</td>\n",
       "      <td>False</td>\n",
       "    </tr>\n",
       "    <tr>\n",
       "      <th>4</th>\n",
       "      <td>old friend come visit would love fee dinner in...</td>\n",
       "      <td>hey guy love sub think 's great except sob sto...</td>\n",
       "      <td>False</td>\n",
       "    </tr>\n",
       "    <tr>\n",
       "      <th>...</th>\n",
       "      <td>...</td>\n",
       "      <td>...</td>\n",
       "      <td>...</td>\n",
       "    </tr>\n",
       "    <tr>\n",
       "      <th>4035</th>\n",
       "      <td>anyone help recent college grad start new job/...</td>\n",
       "      <td>anyone kind enough help start new job monday d...</td>\n",
       "      <td>False</td>\n",
       "    </tr>\n",
       "    <tr>\n",
       "      <th>4036</th>\n",
       "      <td>usa papa john give away one free pizza 15 purc...</td>\n",
       "      <td>someone could hook 15 gift card would happily ...</td>\n",
       "      <td>True</td>\n",
       "    </tr>\n",
       "    <tr>\n",
       "      <th>4037</th>\n",
       "      <td>mi usa day would love pizza lunch</td>\n",
       "      <td>today soo 'll stick house day clean homework '...</td>\n",
       "      <td>False</td>\n",
       "    </tr>\n",
       "    <tr>\n",
       "      <th>4038</th>\n",
       "      <td>nashua nh mother one hungry 2 year old</td>\n",
       "      <td>'ve never anything like willing try proud moth...</td>\n",
       "      <td>False</td>\n",
       "    </tr>\n",
       "    <tr>\n",
       "      <th>4039</th>\n",
       "      <td>usa wa unexpected bill could n't go grocery sh...</td>\n",
       "      <td>like title say pay unexpected bill go pay come...</td>\n",
       "      <td>False</td>\n",
       "    </tr>\n",
       "  </tbody>\n",
       "</table>\n",
       "<p>4040 rows × 3 columns</p>\n",
       "</div>"
      ],
      "text/plain": [
       "                                          cleaned_title  \\\n",
       "0                        colorado spring help us please   \n",
       "1                      california cash could use dinner   \n",
       "2        hungry couple dundee scotland would love pizza   \n",
       "3             canada ontario get home school need pizza   \n",
       "4     old friend come visit would love fee dinner in...   \n",
       "...                                                 ...   \n",
       "4035  anyone help recent college grad start new job/...   \n",
       "4036  usa papa john give away one free pizza 15 purc...   \n",
       "4037                  mi usa day would love pizza lunch   \n",
       "4038             nashua nh mother one hungry 2 year old   \n",
       "4039  usa wa unexpected bill could n't go grocery sh...   \n",
       "\n",
       "                                           cleaned_text  \\\n",
       "0     hi need food 4 child military family really hi...   \n",
       "1     spend last money gas today im break next thursday   \n",
       "2     girlfriend decide would good idea get perth bu...   \n",
       "3     's cold i'n hungry completely honest 'm broke ...   \n",
       "4     hey guy love sub think 's great except sob sto...   \n",
       "...                                                 ...   \n",
       "4035  anyone kind enough help start new job monday d...   \n",
       "4036  someone could hook 15 gift card would happily ...   \n",
       "4037  today soo 'll stick house day clean homework '...   \n",
       "4038  've never anything like willing try proud moth...   \n",
       "4039  like title say pay unexpected bill go pay come...   \n",
       "\n",
       "      requester_received_pizza  \n",
       "0                        False  \n",
       "1                        False  \n",
       "2                        False  \n",
       "3                        False  \n",
       "4                        False  \n",
       "...                        ...  \n",
       "4035                     False  \n",
       "4036                      True  \n",
       "4037                     False  \n",
       "4038                     False  \n",
       "4039                     False  \n",
       "\n",
       "[4040 rows x 3 columns]"
      ]
     },
     "execution_count": 31,
     "metadata": {},
     "output_type": "execute_result"
    }
   ],
   "source": [
    "df[['cleaned_title', 'cleaned_text', 'requester_received_pizza']]"
   ]
  },
  {
   "cell_type": "markdown",
   "id": "4ef27224",
   "metadata": {},
   "source": [
    "# Prepare data\n",
    "\n",
    "## Text only"
   ]
  },
  {
   "cell_type": "code",
   "execution_count": 32,
   "id": "2dc1f681",
   "metadata": {},
   "outputs": [],
   "source": [
    "from sklearn.model_selection import train_test_split\n",
    "from sklearn.feature_selection import chi2\n",
    "from sklearn.feature_extraction.text import TfidfVectorizer\n",
    "vectorizer = TfidfVectorizer(lowercase=False, max_features=50)\n",
    "\n",
    "min_df = 10\n",
    "max_df = 1.\n",
    "max_features = 200"
   ]
  },
  {
   "cell_type": "code",
   "execution_count": 33,
   "id": "eed7440a",
   "metadata": {},
   "outputs": [],
   "source": [
    "X_train, X_test, y_train, y_test = train_test_split(df['cleaned_title'], \n",
    "                                                    np.array(df['requester_received_pizza']).astype(int), \n",
    "                                                    test_size=0.15, \n",
    "                                                    random_state=8)\n",
    "\n"
   ]
  },
  {
   "cell_type": "code",
   "execution_count": 44,
   "id": "653af776",
   "metadata": {},
   "outputs": [
    {
     "name": "stdout",
     "output_type": "stream",
     "text": [
      "Train features: (3434, 200)\n",
      "Test features: (606, 200)\n",
      "Identified words:\n",
      "['account' 'alone' 'amp' 'another' 'anyone' 'anything' 'apartment'\n",
      " 'appreciate' 'area' 'ask' 'austin' 'away' 'awesome' 'az' 'back' 'bad'\n",
      " 'bank' 'bill' 'birthday' 'bit' 'boyfriend' 'break' 'broke' 'brother'\n",
      " 'buy' 'ca' 'california' 'canada' 'car' 'card' 'cash' 'celebrate' 'check'\n",
      " 'cheer' 'chicago' 'city' 'college' 'come' 'cook' 'could' 'couple' 'crave'\n",
      " 'dad' 'day' 'dinner' 'dog' 'eat' 'empty' 'exam' 'family' 'fee' 'feel'\n",
      " 'final' 'find' 'first' 'fl' 'florida' 'food' 'forward' 'free' 'friday'\n",
      " 'fridge' 'friend' 'ga' 'get' 'girl' 'girlfriend' 'give' 'go' 'good' 'guy'\n",
      " 'hard' 'help' 'home' 'hop' 'hot' 'hour' 'house' 'hungry' 'husband' 'il'\n",
      " 'indiana' 'job' 'kid' 'ky' 'last' 'lay' 'leave' 'life' 'like' 'little'\n",
      " 'live' 'll' 'london' 'long' 'look' 'lose' 'love' 'low' 'luck']\n"
     ]
    }
   ],
   "source": [
    "vectorizer = TfidfVectorizer(stop_words=None,\n",
    "                        lowercase=False,\n",
    "                        max_df=max_df,\n",
    "                        min_df=min_df,\n",
    "                        max_features=max_features,\n",
    "                        norm='l2',\n",
    "                        sublinear_tf=True)\n",
    "                        \n",
    "features_train = vectorizer.fit_transform(X_train).toarray()\n",
    "labels_train = y_train\n",
    "print('Train features:', features_train.shape)\n",
    "features_test = vectorizer.transform(X_test).toarray()\n",
    "labels_test = y_test\n",
    "print('Test features:', features_test.shape)\n",
    "print('Identified words:')\n",
    "features_names = vectorizer.get_feature_names_out()\n",
    "print(features_names[:100])"
   ]
  },
  {
   "cell_type": "code",
   "execution_count": 37,
   "id": "1b3a0f7c",
   "metadata": {},
   "outputs": [
    {
     "name": "stdout",
     "output_type": "stream",
     "text": [
      "# Requester received Pizza False:\n",
      "Most correlated words:\n",
      ". friend\n",
      ". couple\n",
      ". final\n",
      ". florida\n",
      ". hour\n",
      ". austin\n",
      ". little\n",
      ". lay\n",
      ". want\n",
      ". ask\n",
      "\n",
      "# Requester received Pizza True:\n",
      "Most correlated words:\n",
      ". friend\n",
      ". couple\n",
      ". final\n",
      ". florida\n",
      ". hour\n",
      ". austin\n",
      ". little\n",
      ". lay\n",
      ". want\n",
      ". ask\n",
      "\n"
     ]
    }
   ],
   "source": [
    "for i in range(2):\n",
    "    features_chi2 = chi2(features_train, labels_train == i)\n",
    "    indices = np.argsort(features_chi2[0])\n",
    "    feature_names = np.array(features_names)[indices]\n",
    "    print(\"# Requester received Pizza {}:\".format(bool(i)))\n",
    "    print(\"Most correlated words:\\n. {}\".format('\\n. '.join(feature_names[-10:])))\n",
    "    print(\"\")"
   ]
  },
  {
   "cell_type": "code",
   "execution_count": 43,
   "id": "2ed5f374",
   "metadata": {},
   "outputs": [],
   "source": [
    "import pickle\n",
    "\n",
    "# X_train\n",
    "with open('pickles/X_train.pickle', 'wb') as output:\n",
    "    pickle.dump(X_train, output)\n",
    "    \n",
    "# X_test    \n",
    "with open('pickles/X_test.pickle', 'wb') as output:\n",
    "    pickle.dump(X_test, output)\n",
    "    \n",
    "# y_train\n",
    "with open('pickles/y_train.pickle', 'wb') as output:\n",
    "    pickle.dump(y_train, output)\n",
    "    \n",
    "# y_test\n",
    "with open('pickles/y_test.pickle', 'wb') as output:\n",
    "    pickle.dump(y_test, output)\n",
    "    \n",
    "# df\n",
    "with open('pickles/df.pickle', 'wb') as output:\n",
    "    pickle.dump(df, output)\n",
    "    \n",
    "# features_train\n",
    "with open('pickles/features_train.pickle', 'wb') as output:\n",
    "    pickle.dump(features_train, output)\n",
    "\n",
    "# labels_train\n",
    "with open('pickles/labels_train.pickle', 'wb') as output:\n",
    "    pickle.dump(labels_train, output)\n",
    "\n",
    "# features_test\n",
    "with open('pickles/features_test.pickle', 'wb') as output:\n",
    "    pickle.dump(features_test, output)\n",
    "\n",
    "# labels_test\n",
    "with open('pickles/labels_test.pickle', 'wb') as output:\n",
    "    pickle.dump(labels_test, output)"
   ]
  },
  {
   "cell_type": "code",
   "execution_count": null,
   "id": "780e660f",
   "metadata": {},
   "outputs": [],
   "source": []
  }
 ],
 "metadata": {
  "kernelspec": {
   "display_name": "Python 3 (ipykernel)",
   "language": "python",
   "name": "python3"
  },
  "language_info": {
   "codemirror_mode": {
    "name": "ipython",
    "version": 3
   },
   "file_extension": ".py",
   "mimetype": "text/x-python",
   "name": "python",
   "nbconvert_exporter": "python",
   "pygments_lexer": "ipython3",
   "version": "3.9.11"
  }
 },
 "nbformat": 4,
 "nbformat_minor": 5
}
